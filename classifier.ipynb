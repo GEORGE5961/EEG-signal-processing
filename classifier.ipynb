{
 "cells": [
  {
   "cell_type": "markdown",
   "metadata": {},
   "source": [
    "## Section 1: Load data"
   ]
  },
  {
   "cell_type": "code",
   "execution_count": 3,
   "metadata": {},
   "outputs": [],
   "source": [
    "import numpy as np                                      # for dealing with data\n",
    "from scipy.signal import butter, sosfiltfilt, sosfreqz  # for filtering\n",
    "import matplotlib.pyplot as plt                         # for plotting\n",
    "from scipy import interp\n",
    "from sklearn.discriminant_analysis import LinearDiscriminantAnalysis\n",
    "from sklearn.model_selection import cross_val_score\n",
    "from sklearn.metrics import roc_curve, auc\n",
    "from sklearn.model_selection import StratifiedKFold"
   ]
  },
  {
   "cell_type": "code",
   "execution_count": 19,
   "metadata": {},
   "outputs": [
    {
     "name": "stdout",
     "output_type": "stream",
     "text": [
      "First 100 values from y: [0 0 1 0 0 1 0 0 0 0 0 0 0 0 0 0 0 0 0 0 0 1 1 0 1 0 1 0 0 0 0 0 0 0 0 0 0\n",
      " 0 0 0 0 0 0 1 0 1 0 0 0 1 1 0 0 0 0 0 0 0 0 0 1 1 0 0 0 0 0 0 0 0 0 0 0 0\n",
      " 1 0 0 0 0 0 1 0 0 0 1 0 0 1 0 0 0 0 0 0 0 0 0 0 0 0]\n",
      "X_train shape: (5, 64, 7561)\n",
      "y shape: (7561,)\n",
      "X_test shape: (5, 64, 5580)\n",
      "labels_test shape: (5580,)\n"
     ]
    }
   ],
   "source": [
    "# Load in train signals and markers + labels\n",
    "X_train = np.load('train_data.npy')\n",
    "labels_train = np.genfromtxt('train_label.csv', delimiter=',').astype(int) # also contains labels in first column\n",
    "y = labels_train[:, 0] # let's only save the labels\n",
    "print('First 100 values from y: ' + str(y[0:100]))\n",
    "\n",
    "# Let's also load in our test signals and markers\n",
    "X_test = np.load('test_data.npy')\n",
    "labels_test = np.genfromtxt('test_label.csv', delimiter=',').astype(int)\n",
    "\n",
    "# Let's print out the shapes of our data\n",
    "print('X_train shape: ' + str(X_train.shape))\n",
    "print('y shape: ' + str(y.shape))\n",
    "print('X_test shape: ' + str(X_test.shape))\n",
    "print('labels_test shape: ' + str(labels_test.shape))"
   ]
  },
  {
   "cell_type": "code",
   "execution_count": 20,
   "metadata": {},
   "outputs": [
    {
     "name": "stdout",
     "output_type": "stream",
     "text": [
      "X_train shape is now: (7561, 320)\n",
      "X_test  shape is now: (5580, 320)\n"
     ]
    }
   ],
   "source": [
    "X_train = X_train.reshape(-1, X_train.shape[-1]).T  % -1 means automatically modify this dimension according to other dimensions\n",
    "X_test = X_test.reshape(-1, X_test.shape[-1]).T\n",
    "\n",
    "# Let's print out the new shape\n",
    "print('X_train shape is now: ' + str(X_train.shape))\n",
    "print('X_test  shape is now: ' + str(X_test.shape))"
   ]
  },
  {
   "cell_type": "code",
   "execution_count": 23,
   "metadata": {},
   "outputs": [
    {
     "name": "stdout",
     "output_type": "stream",
     "text": [
      "Train finished!\n"
     ]
    }
   ],
   "source": [
    "# Train classifier \n",
    "clf_lsqrs = LinearDiscriminantAnalysis(solver = 'lsqr',  shrinkage = 'auto').fit(X_train, y)\n",
    "print(\"Train finished!\")"
   ]
  },
  {
   "cell_type": "code",
   "execution_count": 25,
   "metadata": {},
   "outputs": [
    {
     "name": "stdout",
     "output_type": "stream",
     "text": [
      "solver = lsqr  accuracy: 0.870120157925842\n"
     ]
    }
   ],
   "source": [
    "# 5-fold cross validation\n",
    "score_lsqrs = cross_val_score(clf_lsqrs, X_train, y, cv = 5)\n",
    "\n",
    "# mean score\n",
    "print(\"solver = lsqr  accuracy: \" + str(np.mean(score_lsqrs)))"
   ]
  },
  {
   "cell_type": "code",
   "execution_count": 32,
   "metadata": {},
   "outputs": [
    {
     "name": "stdout",
     "output_type": "stream",
     "text": [
      "Conf:[ 1.33034542 -6.11015533 -3.00688623 -3.19595164 -1.42835548 -2.63596263\n",
      " -4.80883761 -0.66604144 -3.3568687  -0.91395857  0.83532779 -2.84563106\n",
      "  0.47841878 -0.81692984 -2.63319876 -4.70195754  4.3729467  -1.874376\n",
      " -7.51207093 -0.86455983 -5.405519   -2.1585846  -5.56328606 -1.91640675\n",
      " -4.40301118 -1.51650003 -4.38925244 -3.12654378 -0.91858943 -7.67209495\n",
      " -7.20371833  3.59808813 -3.90927252  1.59983429 -0.65188814 -2.94586714\n",
      " -0.58752122 -5.10229566  2.19755773 -3.20705927 -2.35504868 -0.4513598\n",
      " -1.87813549  2.35162369 -6.74016623 -0.59894468 -3.10191383 -0.89964969\n",
      "  0.42623301 -7.72250199 -1.29696358 -1.74173507 -3.01460788 -0.61236523\n",
      " -0.69791265 -5.79353588 -4.51692869 -4.67235345 -4.0722534   0.48484381\n",
      " -4.93050763  1.5003     -4.945849   -3.17893496 -2.9761557   3.78586188\n",
      " -5.639891   -1.76505969 -0.38783528 -2.74053896 -1.47254758 -6.83607845\n",
      " -3.59843936  2.24535198 -6.62352686 -2.94963645 -4.4090993  -2.78530958\n",
      " -6.35850573 -6.59175505  1.92360091 -7.02122382 -0.14605531 -5.94444947\n",
      " -5.12081919  3.17727556 -6.45765448  1.19997194 -6.84976603 -2.06678157\n",
      " -6.33198274 -1.95478917 -0.7435495  -6.38183765 -4.85259949 -1.72746288\n",
      " -0.26879799 -5.59336026 -4.13797326 -2.10159547]\n",
      "Pred:[1 0 0 0 0 0 0 0 0 0 1 0 1 0 0 0 1 0 0 0 0 0 0 0 0 0 0 0 0 0 0 1 0 1 0 0 0\n",
      " 0 1 0 0 0 0 1 0 0 0 0 1 0 0 0 0 0 0 0 0 0 0 1 0 1 0 0 0 1 0 0 0 0 0 0 0 1\n",
      " 0 0 0 0 0 0 1 0 0 0 0 1 0 1 0 0 0 0 0 0 0 0 0 0 0 0]\n"
     ]
    }
   ],
   "source": [
    "# prediction\n",
    "\n",
    "conf = clf_lsqrs.decision_function(X_test) # predicted confidence score\n",
    "pred = clf_lsqrs.predict(X_test)           # predicted label (we won't actually use this)\n",
    "print(\"Conf:\"+ str(conf[0:100]))\n",
    "print(\"Pred:\"+ str(pred[0:100]))"
   ]
  },
  {
   "cell_type": "markdown",
   "metadata": {},
   "source": [
    "## Section 2: Verify classifier via ROC and AUG"
   ]
  },
  {
   "cell_type": "code",
   "execution_count": 102,
   "metadata": {},
   "outputs": [
    {
     "data": {
      "image/png": "[encoded data removed]",
      "text/plain": [
       "<Figure size 432x288 with 1 Axes>"
      ]
     },
     "metadata": {
      "needs_background": "light"
     },
     "output_type": "display_data"
    },
    {
     "data": {
      "image/png": "[encoded data removed]",
      "text/plain": [
       "<Figure size 432x288 with 1 Axes>"
      ]
     },
     "metadata": {
      "needs_background": "light"
     },
     "output_type": "display_data"
    }
   ],
   "source": [
    "nfolds = 5;\n",
    "cv = StratifiedKFold(n_splits = nfolds)\n",
    "X = X_train\n",
    "\n",
    "probas = clf_lsqrs.predict_proba(X[test])\n",
    "fpr, tpr, th_lsqrs = roc_curve(y[test], probas[:, 1])\n",
    "roc_auc = auc(fpr, tpr)\n",
    "\n",
    "plt.figure()\n",
    "plt.plot(fpr, tpr, color='darkorange',\n",
    "         lw=2, label='ROC curve (area = %0.2f)' % roc_auc)\n",
    "plt.plot([0, 1], [0, 1], color='navy', lw=2, linestyle='--')\n",
    "plt.xlim([0.0, 1.0])\n",
    "plt.ylim([0.0, 1.05])\n",
    "plt.xlabel('False Positive Rate')\n",
    "plt.ylabel('True Positive Rate')\n",
    "plt.title('ROC curve')\n",
    "plt.legend(loc=\"lower right\")\n",
    "\n",
    "plt.figure()\n",
    "plt.plot(fpr, tpr, color='darkorange',\n",
    "         lw=2, label='ROC curve (area = %0.2f)' % roc_auc)\n",
    "plt.fill_between(fpr,\n",
    "                 tpr,\n",
    "                 facecolor='darkorange')\n",
    "plt.xlim([0.0, 1.0])\n",
    "plt.ylim([0.0, 1.05])\n",
    "plt.xlabel('False Positive Rate')\n",
    "plt.ylabel('True Positive Rate')\n",
    "plt.title('AUC area')\n",
    "plt.legend(loc=\"lower right\")\n",
    "plt.show()"
   ]
  },
  {
   "cell_type": "markdown",
   "metadata": {},
   "source": [
    "## Section 3: Test"
   ]
  },
  {
   "cell_type": "code",
   "execution_count": 27,
   "metadata": {},
   "outputs": [],
   "source": [
    "# Here are the translations for the labels:\n",
    "# Columns 0-5 -> Labels 1-6\n",
    "# Rows 0-5 -> Labels 7-12\n",
    "# Let's create this matrix\n",
    "#                         1    2    3    4    5    6\n",
    "char_matrix = np.array([['A', 'B', 'C', 'D', 'E', 'F'], # 7\n",
    "                        ['G', 'H', 'I', 'J', 'K', 'L'], # 8\n",
    "                        ['M', 'N', 'O', 'P', 'Q', 'R'], # 9\n",
    "                        ['S', 'T', 'U', 'V', 'W', 'X'], # 10\n",
    "                        ['Y', 'Z', '1', '2', '3', '4'], # 11\n",
    "                        ['5', '6', '7', '8', '9', '0']])# 12"
   ]
  },
  {
   "cell_type": "code",
   "execution_count": 33,
   "metadata": {},
   "outputs": [],
   "source": [
    "# Define some useful variables\n",
    "char_breaks = 15 * 12 # number of stimuli per character\n",
    "ch = 1;                # which character we want\n",
    "\n",
    "# Grab our first character's marker, prediction, and confidence\n",
    "char1_mrks = labels_test[char_breaks*(ch-1):char_breaks*ch]\n",
    "char1_pred = pred[char_breaks*(ch-1):char_breaks*ch]\n",
    "char1_conf = conf[char_breaks*(ch-1):char_breaks*ch]\n",
    "\n",
    "# Let's merge these\n",
    "char1 = np.array([char1_mrks, char1_pred, char1_conf]).T"
   ]
  },
  {
   "cell_type": "code",
   "execution_count": 47,
   "metadata": {},
   "outputs": [
    {
     "name": "stdout",
     "output_type": "stream",
     "text": [
      "(180, 3)\n",
      "Before sort:\n",
      "[[ 6.          1.          1.33034542]\n",
      " [12.          0.         -6.11015533]\n",
      " [ 8.          0.         -3.00688623]\n",
      " [ 3.          0.         -3.19595164]\n",
      " [ 4.          0.         -1.42835548]]\n",
      "After sort:\n",
      "[[7.         1.         6.29673973]\n",
      " [6.         1.         4.3729467 ]\n",
      " [7.         1.         3.78586188]\n",
      " [7.         1.         3.59808813]\n",
      " [6.         1.         3.17727556]]\n"
     ]
    }
   ],
   "source": [
    "print(char1.shape)\n",
    "char1_sort = char1[char1[:,2].argsort()]\n",
    "# reverse char1_sort\n",
    "char1_sort = char1_sort[::-1]\n",
    "print(\"Before sort:\\n\"+ str(char1[0:5]))\n",
    "print(\"After sort:\\n\"+ str(char1_sort[0:5]))"
   ]
  },
  {
   "cell_type": "code",
   "execution_count": 77,
   "metadata": {},
   "outputs": [
    {
     "name": "stdout",
     "output_type": "stream",
     "text": [
      "[False False False False False False False False False False False  True\n",
      " False False False False False False False False False False False False\n",
      " False False False False False False False False False False False False\n",
      " False False False False False False  True False False False False False\n",
      " False  True False False False False False False False False False False\n",
      " False False False False  True False False False False False False False\n",
      " False False False False False  True False  True False False False False\n",
      " False False  True False False False False  True False False False False\n",
      "  True False False False False False False False False False False False\n",
      " False False False False False False False False False  True False  True\n",
      " False False False  True False False False False False False False False\n",
      " False False  True False False False False False False False False False\n",
      " False False False False False False False False False False False False\n",
      " False False False False False False False  True False  True False False\n",
      " False False False False False False False False False False False False]\n",
      "[[ 1.          1.          2.04157566]\n",
      " [ 1.          0.         -0.81692984]\n",
      " [ 1.          0.         -1.1294628 ]\n",
      " [ 1.          0.         -1.87813549]\n",
      " [ 1.          0.         -2.50158781]\n",
      " [ 1.          0.         -2.56591399]\n",
      " [ 1.          0.         -2.74873213]\n",
      " [ 1.          0.         -2.87519959]\n",
      " [ 1.          0.         -2.9761557 ]\n",
      " [ 1.          0.         -4.0722534 ]\n",
      " [ 1.          0.         -4.14412826]\n",
      " [ 1.          0.         -4.40301118]\n",
      " [ 1.          0.         -4.80883761]\n",
      " [ 1.          0.         -6.45765448]\n",
      " [ 1.          0.         -6.59175505]]\n",
      "-3.061878779349173\n",
      "Our character is: F\n"
     ]
    }
   ],
   "source": [
    "x = np.zeros([12,1])\n",
    "for i in range(0, 12):\n",
    "    _filter = char1_sort[:, 0] == i + 1\n",
    "    if i ==0:\n",
    "        print(_filter)\n",
    "    rowcol = char1_sort[_filter]\n",
    "    if i ==0:\n",
    "        print(rowcol)\n",
    "        \n",
    "    rowcol_mean = np.mean(rowcol, 0)[2]\n",
    "    if i == 0:\n",
    "        print(rowcol_mean)\n",
    "    x[i] = rowcol_mean\n",
    "    \n",
    "    \n",
    "# Now let's print our character\n",
    "row = np.argmax(x[6:])\n",
    "col = np.argmax(x[0:6])\n",
    "our_char = char_matrix[row, col]\n",
    "print('Our character is: ' + our_char)"
   ]
  },
  {
   "cell_type": "code",
   "execution_count": 78,
   "metadata": {},
   "outputs": [
    {
     "data": {
      "image/png": "[encoded data removed]",
      "text/plain": [
       "<Figure size 432x288 with 1 Axes>"
      ]
     },
     "metadata": {
      "needs_background": "light"
     },
     "output_type": "display_data"
    }
   ],
   "source": [
    "plt.figure()\n",
    "ticks = np.array(range(1, x.shape[0] + 1, 1))\n",
    "plt.bar(ticks, np.ravel(x), tick_label = ticks)\n",
    "plt.show()"
   ]
  },
  {
   "cell_type": "code",
   "execution_count": 80,
   "metadata": {},
   "outputs": [
    {
     "name": "stdout",
     "output_type": "stream",
     "text": [
      "F O O D M O O T H A M P I E C A K E T U N A Z Y G O T 4 5 6 7 \n"
     ]
    }
   ],
   "source": [
    "output_string = ''\n",
    "for c in range(1, int((X_test.shape[0]) / char_breaks) + 1):\n",
    "    # Lets break up test into char 'c'\n",
    "    temp_mrks = markers_test[char_breaks * (c - 1):char_breaks * c]\n",
    "    temp_pred = pred[char_breaks * (c - 1):char_breaks * c]\n",
    "    temp_conf = conf[char_breaks * (c - 1):char_breaks * c]\n",
    "\n",
    "    # Let's merge these and sort by highest confidence\n",
    "    temp_char = np.array([temp_mrks, temp_pred, temp_conf]).T\n",
    "    temp_char = temp_char[temp_char[:, 2].argsort()[::-1]]\n",
    "    \n",
    "    # Create our averages\n",
    "    x = np.zeros(shape = (12, 1))\n",
    "    for i in range(0, x.shape[0]):\n",
    "        x[i, 0] = np.mean(temp_char[temp_char[:, 0] == i + 1, 2])\n",
    "        \n",
    "    # Now let's print our character\n",
    "    row = np.argmax(x[6:,  0])\n",
    "    col = np.argmax(x[0:6, 0])\n",
    "    our_char = char_matrix[row, col]\n",
    "    output_string += our_char + ' '\n",
    "    \n",
    "# Print our result\n",
    "print(output_string)"
   ]
  },
  {
   "cell_type": "markdown",
   "metadata": {},
   "source": [
    "#### ANS: F O O D M O O T H A M P I E C A K E T U N A Z Y G O T 4 5 6 7\n",
    "http://www.bbci.de/competition/ii/results/tax_iib_desc.pdf"
   ]
  }
 ],
 "metadata": {
  "kernelspec": {
   "display_name": "Python 3",
   "language": "python",
   "name": "python3"
  },
  "language_info": {
   "codemirror_mode": {
    "name": "ipython",
    "version": 3
   },
   "file_extension": ".py",
   "mimetype": "text/x-python",
   "name": "python",
   "nbconvert_exporter": "python",
   "pygments_lexer": "ipython3",
   "version": "3.7.3"
  }
 },
 "nbformat": 4,
 "nbformat_minor": 2
}
